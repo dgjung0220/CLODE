{
 "cells": [
  {
   "cell_type": "code",
   "execution_count": 21,
   "metadata": {},
   "outputs": [
    {
     "name": "stdout",
     "output_type": "stream",
     "text": [
      "assets/video/overexposure/1.png\n",
      "assets/video/overexposure/2.png\n",
      "assets/video/overexposure/3.png\n",
      "assets/video/overexposure/4.png\n",
      "assets/video/overexposure/5.png\n",
      "assets/video/overexposure/6.png\n",
      "assets/video/overexposure/7.png\n"
     ]
    },
    {
     "name": "stderr",
     "output_type": "stream",
     "text": [
      "OpenCV: FFMPEG: tag 0x58564944/'DIVX' is not supported with codec id 12 and format 'mp4 / MP4 (MPEG-4 Part 14)'\n",
      "OpenCV: FFMPEG: fallback to use tag 0x7634706d/'mp4v'\n"
     ]
    }
   ],
   "source": [
    "pathOut = 'gan.mp4'\n",
    "fps = 0.1\n",
    "\n",
    "from glob import glob\n",
    "from natsort import natsorted\n",
    "\n",
    "paths = glob('assets/video/overexposure/*.png')\n",
    "\n",
    "import cv2\n",
    "frame_array = []\n",
    "for idx , path in enumerate(paths): \n",
    "\n",
    "    path = f'assets/video/overexposure/{idx+1}.png'\n",
    "    print(path)\n",
    "    img = cv2.imread(path)\n",
    "    height, width, layers = img.shape\n",
    "    size = (width,height)\n",
    "    frame_array.append(img)\n",
    "    \n",
    "out = cv2.VideoWriter(pathOut,cv2.VideoWriter_fourcc(*'DIVX'), fps, size)\n",
    "for i in range(len(frame_array)):\n",
    "    out.write(frame_array[i])\n",
    "    \n",
    "out.release()"
   ]
  },
  {
   "cell_type": "code",
   "execution_count": null,
   "metadata": {},
   "outputs": [],
   "source": []
  }
 ],
 "metadata": {
  "kernelspec": {
   "display_name": "ll",
   "language": "python",
   "name": "python3"
  },
  "language_info": {
   "codemirror_mode": {
    "name": "ipython",
    "version": 3
   },
   "file_extension": ".py",
   "mimetype": "text/x-python",
   "name": "python",
   "nbconvert_exporter": "python",
   "pygments_lexer": "ipython3",
   "version": "3.9.18"
  }
 },
 "nbformat": 4,
 "nbformat_minor": 2
}
