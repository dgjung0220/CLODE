{
 "cells": [
  {
   "cell_type": "code",
   "execution_count": 1,
   "metadata": {},
   "outputs": [
    {
     "ename": "ModuleNotFoundError",
     "evalue": "No module named 'torch'",
     "output_type": "error",
     "traceback": [
      "\u001b[31m---------------------------------------------------------------------------\u001b[39m",
      "\u001b[31mModuleNotFoundError\u001b[39m                       Traceback (most recent call last)",
      "\u001b[36mCell\u001b[39m\u001b[36m \u001b[39m\u001b[32mIn[1]\u001b[39m\u001b[32m, line 1\u001b[39m\n\u001b[32m----> \u001b[39m\u001b[32m1\u001b[39m \u001b[38;5;28;01mimport\u001b[39;00m\u001b[38;5;250m \u001b[39m\u001b[34;01mtorch\u001b[39;00m\n\u001b[32m      2\u001b[39m \u001b[38;5;28;01mfrom\u001b[39;00m\u001b[38;5;250m \u001b[39m\u001b[34;01mtorchmetrics\u001b[39;00m\u001b[34;01m.\u001b[39;00m\u001b[34;01mmultimodal\u001b[39;00m\u001b[38;5;250m \u001b[39m\u001b[38;5;28;01mimport\u001b[39;00m CLIPImageQualityAssessment\n\u001b[32m      3\u001b[39m \u001b[38;5;28;01mfrom\u001b[39;00m\u001b[38;5;250m \u001b[39m\u001b[34;01mtorchvision\u001b[39;00m\u001b[38;5;250m \u001b[39m\u001b[38;5;28;01mimport\u001b[39;00m transforms\n",
      "\u001b[31mModuleNotFoundError\u001b[39m: No module named 'torch'"
     ]
    }
   ],
   "source": [
    "import torch\n",
    "from torchmetrics.multimodal import CLIPImageQualityAssessment\n",
    "from torchvision import transforms\n",
    "from PIL import Image\n",
    "from pathlib import Path\n",
    "import os\n",
    "import numpy as np\n",
    "\n",
    "# 1. CLIP 평가 모델 로드\n",
    "device = \"cuda\" if torch.cuda.is_available() else \"cpu\"\n",
    "clip_metric = CLIPImageQualityAssessment(model_name_or_path=\"openai/clip-vit-base-patch16\", prompts=(\"quality\", \"brightness\")).to(device)\n",
    "\n",
    "\n",
    "\n",
    "clip_vision_encoder = clip_metric.model.vision_model\n",
    "\n",
    "clip_metric\n",
    "\n"
   ]
  },
  {
   "cell_type": "code",
   "execution_count": 24,
   "metadata": {},
   "outputs": [
    {
     "name": "stdout",
     "output_type": "stream",
     "text": [
      "Base Model Output With Pooling: torch.Size([1, 197, 768])\n",
      "Pooler Output: torch.Size([1, 768])\n"
     ]
    }
   ],
   "source": [
    "\n",
    "\n",
    "# # 2. 이미지 전처리 파이프라인 정의\n",
    "# transform = transforms.Compose([\n",
    "#     transforms.Resize((224, 224)),  # CLIP 입력 크기에 맞게 조정\n",
    "#     transforms.ToTensor(),\n",
    "#     transforms.Normalize(mean=[0.4815, 0.4578, 0.4082], std=[0.2686, 0.2613, 0.2758]),  # CLIP 정규화 값\n",
    "# ])\n",
    "\n",
    "def image_tensor(image_path, size=None):\n",
    "    img = Image.open(image_path)\n",
    "    \n",
    "    if size != None:\n",
    "        img = img.resize(size)\n",
    "\n",
    "    img = (np.asarray(img)/255.0)\n",
    "    img = torch.from_numpy(img).float()\n",
    "    img = img.permute(2,0,1).unsqueeze(0)\n",
    "    return img\n",
    "\n",
    "# 3. 이미지 로드 및 전처리\n",
    "file_path = Path('./data/Huawei')\n",
    "img_labels = sorted(os.listdir(file_path / 'low'))\n",
    "lq_img = image_tensor(file_path / 'low' / img_labels[0], (224, 224)).to(device)\n",
    "# image = transform(lq_img).unsqueeze(0).to(device)  # 배치 차원 추가\n",
    "\n",
    "# 4. CLIP 특징 벡터 추출\n",
    "with torch.no_grad():\n",
    "    image_features = clip_vision_encoder(lq_img)\n",
    "\n",
    "# 5. 출력 결과\n",
    "print(\"Base Model Output With Pooling:\", image_features[0].shape)  # 출력 벡터 차원 확인\n",
    "print(\"Pooler Output:\", image_features[1].shape)  # 출력 벡터 확인\n",
    "\n"
   ]
  }
 ],
 "metadata": {
  "kernelspec": {
   "display_name": "CLODE",
   "language": "python",
   "name": "python3"
  },
  "language_info": {
   "codemirror_mode": {
    "name": "ipython",
    "version": 3
   },
   "file_extension": ".py",
   "mimetype": "text/x-python",
   "name": "python",
   "nbconvert_exporter": "python",
   "pygments_lexer": "ipython3",
   "version": "3.13.2"
  }
 },
 "nbformat": 4,
 "nbformat_minor": 2
}
